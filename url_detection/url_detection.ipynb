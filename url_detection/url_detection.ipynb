{
 "cells": [
  {
   "cell_type": "markdown",
   "metadata": {},
   "source": [
    "# Machine Learning Malicious URL Detection"
   ]
  },
  {
   "cell_type": "code",
   "execution_count": 1,
   "metadata": {},
   "outputs": [],
   "source": [
    "# import necessary libraries\n",
    "import pandas as pd"
   ]
  },
  {
   "cell_type": "code",
   "execution_count": 2,
   "metadata": {},
   "outputs": [
    {
     "data": {
      "text/html": [
       "<div>\n",
       "<style scoped>\n",
       "    .dataframe tbody tr th:only-of-type {\n",
       "        vertical-align: middle;\n",
       "    }\n",
       "\n",
       "    .dataframe tbody tr th {\n",
       "        vertical-align: top;\n",
       "    }\n",
       "\n",
       "    .dataframe thead th {\n",
       "        text-align: right;\n",
       "    }\n",
       "</style>\n",
       "<table border=\"1\" class=\"dataframe\">\n",
       "  <thead>\n",
       "    <tr style=\"text-align: right;\">\n",
       "      <th></th>\n",
       "      <th>url</th>\n",
       "      <th>label</th>\n",
       "    </tr>\n",
       "  </thead>\n",
       "  <tbody>\n",
       "    <tr>\n",
       "      <th>0</th>\n",
       "      <td>clicks.careerbits.com/lt/click/8E04747359F18A2...</td>\n",
       "      <td>bad</td>\n",
       "    </tr>\n",
       "    <tr>\n",
       "      <th>1</th>\n",
       "      <td>adeccona.com</td>\n",
       "      <td>bad</td>\n",
       "    </tr>\n",
       "    <tr>\n",
       "      <th>2</th>\n",
       "      <td>links.email.informedamericantoday.com/u/click?...</td>\n",
       "      <td>bad</td>\n",
       "    </tr>\n",
       "    <tr>\n",
       "      <th>3</th>\n",
       "      <td>crew@email.informedamericantoday.com</td>\n",
       "      <td>bad</td>\n",
       "    </tr>\n",
       "    <tr>\n",
       "      <th>4</th>\n",
       "      <td>x9wystizllxtpcj3xnvd@d7vsnutmv9sfhfrrayqxm6m9w...</td>\n",
       "      <td>bad</td>\n",
       "    </tr>\n",
       "  </tbody>\n",
       "</table>\n",
       "</div>"
      ],
      "text/plain": [
       "                                                 url label\n",
       "0  clicks.careerbits.com/lt/click/8E04747359F18A2...   bad\n",
       "1                                       adeccona.com   bad\n",
       "2  links.email.informedamericantoday.com/u/click?...   bad\n",
       "3               crew@email.informedamericantoday.com   bad\n",
       "4  x9wystizllxtpcj3xnvd@d7vsnutmv9sfhfrrayqxm6m9w...   bad"
      ]
     },
     "execution_count": 2,
     "metadata": {},
     "output_type": "execute_result"
    }
   ],
   "source": [
    "df = pd.read_csv('urldata.csv')\n",
    "df.head()"
   ]
  },
  {
   "cell_type": "code",
   "execution_count": 3,
   "metadata": {},
   "outputs": [],
   "source": [
    "# cleaning data removing unnecessary characters in the text data, punctuations, \n",
    "# and repetitive words.\n",
    "def makeTokens(f):\n",
    "    tkns_BySlash = str(f.encode('utf-8')).split('/') # make tokens after splitting by slash\n",
    "    total_Tokens = []\n",
    "\n",
    "    for i in tkns_BySlash:\n",
    "        tokens = str(i).split('-') # make tokens after splitting by dash\n",
    "        tkns_ByDot = []\n",
    "\n",
    "    for j in range(0,len(tokens)):\n",
    "        temp_Tokens = str(tokens[j]).split('.') # make tokens after splitting by dot\n",
    "        tkns_ByDot = tkns_ByDot + temp_Tokens\n",
    "        total_Tokens = total_Tokens + tokens + tkns_ByDot\n",
    "        total_Tokens = list(set(total_Tokens))  #remove redundant tokens\n",
    "\n",
    "    if 'com' in total_Tokens:\n",
    "        total_Tokens.remove('com') # removing .com since it occurs a lot of times and it should not be included in our features\n",
    "    return total_Tokens"
   ]
  },
  {
   "cell_type": "code",
   "execution_count": 4,
   "metadata": {},
   "outputs": [],
   "source": [
    "# add features and labels \n",
    "df_list = df['url']\n",
    "y = df['label']"
   ]
  },
  {
   "cell_type": "code",
   "execution_count": 5,
   "metadata": {},
   "outputs": [],
   "source": [
    "# import sklearn libraries\n",
    "from sklearn.linear_model import LogisticRegression\n",
    "from sklearn.model_selection import train_test_split\n",
    "from sklearn.feature_extraction.text import TfidfVectorizer"
   ]
  },
  {
   "cell_type": "code",
   "execution_count": 6,
   "metadata": {},
   "outputs": [],
   "source": [
    "# convert the text data into vectors of numbers\n",
    "vectorizer = TfidfVectorizer(tokenizer=makeTokens)"
   ]
  },
  {
   "cell_type": "code",
   "execution_count": 7,
   "metadata": {},
   "outputs": [],
   "source": [
    "X = vectorizer.fit_transform(df_list)"
   ]
  },
  {
   "cell_type": "code",
   "execution_count": 8,
   "metadata": {},
   "outputs": [],
   "source": [
    "# Spliting the dataset into training and testing sets\n",
    "X_train, X_test, y_train, y_test = train_test_split(X, y, test_size=0.2, random_state=42)"
   ]
  },
  {
   "cell_type": "code",
   "execution_count": 9,
   "metadata": {},
   "outputs": [
    {
     "data": {
      "text/plain": [
       "LogisticRegression(multi_class='ovr', n_jobs=1, solver='liblinear')"
      ]
     },
     "execution_count": 9,
     "metadata": {},
     "output_type": "execute_result"
    }
   ],
   "source": [
    "# Building Logistic Regression Model\n",
    "logit = LogisticRegression(C=1.0, class_weight=None, \n",
    "                           dual=False, fit_intercept=True, intercept_scaling=1, \n",
    "                           max_iter=100, multi_class='ovr', n_jobs=1, penalty='l2', \n",
    "                           random_state=None, solver='liblinear',\n",
    "                           tol=0.0001, verbose=0, warm_start=False)\n",
    "\n",
    "# fitting algorithm\n",
    "logit.fit(X_train, y_train)"
   ]
  },
  {
   "cell_type": "code",
   "execution_count": 10,
   "metadata": {},
   "outputs": [
    {
     "name": "stdout",
     "output_type": "stream",
     "text": [
      "Accuracy:  0.8975206611570248\n"
     ]
    }
   ],
   "source": [
    "# Get the model accuracy\n",
    "print(\"Accuracy: \",logit.score(X_test, y_test))"
   ]
  },
  {
   "cell_type": "code",
   "execution_count": 11,
   "metadata": {},
   "outputs": [],
   "source": [
    "# have an accuracy of ~90%\n",
    "\n",
    "# First test of urls\n",
    "X_predict = [\"https://www.section.io/engineering-education/\",\n",
    "             \"https://www.youtube.com/\",\n",
    "             \"https://www.traversymedia.com/\",\n",
    "             \"https://www.kleinehundezuhause.com\",\n",
    "             \"http://ttps://www.mecymiafinance.com\",\n",
    "             \"https://www.atlanticoceanicoilandgas.com\",\n",
    "             \"www.supersecretphishingwebsite.golf\"]"
   ]
  },
  {
   "cell_type": "code",
   "execution_count": 12,
   "metadata": {},
   "outputs": [],
   "source": [
    "X_predict = vectorizer.transform(X_predict)\n",
    "New_predict = logit.predict(X_predict)"
   ]
  },
  {
   "cell_type": "code",
   "execution_count": 13,
   "metadata": {},
   "outputs": [
    {
     "name": "stdout",
     "output_type": "stream",
     "text": [
      "['good' 'good' 'good' 'bad' 'bad' 'bad' 'bad']\n"
     ]
    }
   ],
   "source": [
    "print(New_predict)"
   ]
  },
  {
   "cell_type": "code",
   "execution_count": 14,
   "metadata": {},
   "outputs": [],
   "source": [
    "# Second test of urls\n",
    "X_predict1 = [\"www.buyfakebillsonlinee.blogspot.com\", \n",
    "              \"www.unitedairlineslogistics.com\",\n",
    "              \"www.stonehousedelivery.com\",\n",
    "              \"www.silkroadmeds-onlinepharmacy.com\",\n",
    "              \"www.pendims.golf\"]"
   ]
  },
  {
   "cell_type": "code",
   "execution_count": 15,
   "metadata": {},
   "outputs": [
    {
     "name": "stdout",
     "output_type": "stream",
     "text": [
      "['bad' 'bad' 'bad' 'bad' 'bad']\n"
     ]
    }
   ],
   "source": [
    "X_predict1 = vectorizer.transform(X_predict1)\n",
    "New_predict1 = logit.predict(X_predict1)\n",
    "print(New_predict1)"
   ]
  }
 ],
 "metadata": {
  "kernelspec": {
   "display_name": "Python 3 (ipykernel)",
   "language": "python",
   "name": "python3"
  },
  "language_info": {
   "codemirror_mode": {
    "name": "ipython",
    "version": 3
   },
   "file_extension": ".py",
   "mimetype": "text/x-python",
   "name": "python",
   "nbconvert_exporter": "python",
   "pygments_lexer": "ipython3",
   "version": "3.9.12"
  },
  "vscode": {
   "interpreter": {
    "hash": "688940abfd0fa8e46f82209096649e491198e0cf33281e26fd50ea34d2ceca4f"
   }
  }
 },
 "nbformat": 4,
 "nbformat_minor": 2
}
